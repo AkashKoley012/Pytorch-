{
  "cells": [
    {
      "cell_type": "markdown",
      "metadata": {
        "id": "view-in-github",
        "colab_type": "text"
      },
      "source": [
        "<a href=\"https://colab.research.google.com/github/AkashKoley012/Pytorch-/blob/main/YOLO%20Object%20Detection.ipynb\" target=\"_parent\"><img src=\"https://colab.research.google.com/assets/colab-badge.svg\" alt=\"Open In Colab\"/></a>"
      ]
    },
    {
      "cell_type": "code",
      "source": [
        "!pip install ultralytics"
      ],
      "metadata": {
        "id": "PKrHPGczVR4J"
      },
      "id": "PKrHPGczVR4J",
      "execution_count": null,
      "outputs": []
    },
    {
      "cell_type": "code",
      "source": [
        "import yaml\n",
        "\n",
        "# Sample config data\n",
        "config_data = {\n",
        "    \"path\": \"/content/data\",\n",
        "    \"train\": \"/training_images\",\n",
        "    \"val\": \"/testing_images\",\n",
        "    \"names\":{\n",
        "        0:\"alpaca\"\n",
        "    }\n",
        "}\n",
        "\n",
        "# Save YAML file inside Kaggle notebook\n",
        "config_path = \"/content/data/config.yaml\"\n",
        "\n",
        "with open(config_path, \"w\") as file:\n",
        "    yaml.dump(config_data, file)\n",
        "\n",
        "print(f\"Config file saved at {config_path}\")"
      ],
      "metadata": {
        "id": "v_pjW8UeSlD7"
      },
      "id": "v_pjW8UeSlD7",
      "execution_count": null,
      "outputs": []
    },
    {
      "cell_type": "code",
      "source": [
        "from ultralytics import YOLO\n",
        "\n",
        "# Load a model\n",
        "model = YOLO(\"yolov8n.yaml\")  # build a new model from scratch\n",
        "\n",
        "# Use the model\n",
        "results = model.train(data=config_path, epochs=1)  # train the model"
      ],
      "metadata": {
        "id": "uV_hCDUTUr6J"
      },
      "id": "uV_hCDUTUr6J",
      "execution_count": null,
      "outputs": []
    }
  ],
  "metadata": {
    "kernelspec": {
      "display_name": "",
      "name": ""
    },
    "language_info": {
      "name": ""
    },
    "colab": {
      "provenance": [],
      "include_colab_link": true
    }
  },
  "nbformat": 4,
  "nbformat_minor": 5
}