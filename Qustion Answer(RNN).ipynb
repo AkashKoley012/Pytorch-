{
  "cells": [
    {
      "cell_type": "markdown",
      "metadata": {
        "id": "view-in-github",
        "colab_type": "text"
      },
      "source": [
        "<a href=\"https://colab.research.google.com/github/AkashKoley012/Pytorch-/blob/main/Qustion%20Answer(RNN).ipynb\" target=\"_parent\"><img src=\"https://colab.research.google.com/assets/colab-badge.svg\" alt=\"Open In Colab\"/></a>"
      ]
    },
    {
      "cell_type": "code",
      "execution_count": 1,
      "id": "b36a5666-900e-4acb-b9a4-5739b02cb85b",
      "metadata": {
        "id": "b36a5666-900e-4acb-b9a4-5739b02cb85b",
        "outputId": "cf19c6c6-eede-45a8-9f46-df2d4d135e7d",
        "colab": {
          "base_uri": "https://localhost:8080/",
          "height": 206
        }
      },
      "outputs": [
        {
          "output_type": "execute_result",
          "data": {
            "text/plain": [
              "                                          question      answer\n",
              "0                   What is the capital of France?       Paris\n",
              "1                  What is the capital of Germany?      Berlin\n",
              "2               Who wrote 'To Kill a Mockingbird'?  Harper-Lee\n",
              "3  What is the largest planet in our solar system?     Jupiter\n",
              "4   What is the boiling point of water in Celsius?         100"
            ],
            "text/html": [
              "\n",
              "  <div id=\"df-11210be3-5ad9-4ab5-999e-665f80d421e9\" class=\"colab-df-container\">\n",
              "    <div>\n",
              "<style scoped>\n",
              "    .dataframe tbody tr th:only-of-type {\n",
              "        vertical-align: middle;\n",
              "    }\n",
              "\n",
              "    .dataframe tbody tr th {\n",
              "        vertical-align: top;\n",
              "    }\n",
              "\n",
              "    .dataframe thead th {\n",
              "        text-align: right;\n",
              "    }\n",
              "</style>\n",
              "<table border=\"1\" class=\"dataframe\">\n",
              "  <thead>\n",
              "    <tr style=\"text-align: right;\">\n",
              "      <th></th>\n",
              "      <th>question</th>\n",
              "      <th>answer</th>\n",
              "    </tr>\n",
              "  </thead>\n",
              "  <tbody>\n",
              "    <tr>\n",
              "      <th>0</th>\n",
              "      <td>What is the capital of France?</td>\n",
              "      <td>Paris</td>\n",
              "    </tr>\n",
              "    <tr>\n",
              "      <th>1</th>\n",
              "      <td>What is the capital of Germany?</td>\n",
              "      <td>Berlin</td>\n",
              "    </tr>\n",
              "    <tr>\n",
              "      <th>2</th>\n",
              "      <td>Who wrote 'To Kill a Mockingbird'?</td>\n",
              "      <td>Harper-Lee</td>\n",
              "    </tr>\n",
              "    <tr>\n",
              "      <th>3</th>\n",
              "      <td>What is the largest planet in our solar system?</td>\n",
              "      <td>Jupiter</td>\n",
              "    </tr>\n",
              "    <tr>\n",
              "      <th>4</th>\n",
              "      <td>What is the boiling point of water in Celsius?</td>\n",
              "      <td>100</td>\n",
              "    </tr>\n",
              "  </tbody>\n",
              "</table>\n",
              "</div>\n",
              "    <div class=\"colab-df-buttons\">\n",
              "\n",
              "  <div class=\"colab-df-container\">\n",
              "    <button class=\"colab-df-convert\" onclick=\"convertToInteractive('df-11210be3-5ad9-4ab5-999e-665f80d421e9')\"\n",
              "            title=\"Convert this dataframe to an interactive table.\"\n",
              "            style=\"display:none;\">\n",
              "\n",
              "  <svg xmlns=\"http://www.w3.org/2000/svg\" height=\"24px\" viewBox=\"0 -960 960 960\">\n",
              "    <path d=\"M120-120v-720h720v720H120Zm60-500h600v-160H180v160Zm220 220h160v-160H400v160Zm0 220h160v-160H400v160ZM180-400h160v-160H180v160Zm440 0h160v-160H620v160ZM180-180h160v-160H180v160Zm440 0h160v-160H620v160Z\"/>\n",
              "  </svg>\n",
              "    </button>\n",
              "\n",
              "  <style>\n",
              "    .colab-df-container {\n",
              "      display:flex;\n",
              "      gap: 12px;\n",
              "    }\n",
              "\n",
              "    .colab-df-convert {\n",
              "      background-color: #E8F0FE;\n",
              "      border: none;\n",
              "      border-radius: 50%;\n",
              "      cursor: pointer;\n",
              "      display: none;\n",
              "      fill: #1967D2;\n",
              "      height: 32px;\n",
              "      padding: 0 0 0 0;\n",
              "      width: 32px;\n",
              "    }\n",
              "\n",
              "    .colab-df-convert:hover {\n",
              "      background-color: #E2EBFA;\n",
              "      box-shadow: 0px 1px 2px rgba(60, 64, 67, 0.3), 0px 1px 3px 1px rgba(60, 64, 67, 0.15);\n",
              "      fill: #174EA6;\n",
              "    }\n",
              "\n",
              "    .colab-df-buttons div {\n",
              "      margin-bottom: 4px;\n",
              "    }\n",
              "\n",
              "    [theme=dark] .colab-df-convert {\n",
              "      background-color: #3B4455;\n",
              "      fill: #D2E3FC;\n",
              "    }\n",
              "\n",
              "    [theme=dark] .colab-df-convert:hover {\n",
              "      background-color: #434B5C;\n",
              "      box-shadow: 0px 1px 3px 1px rgba(0, 0, 0, 0.15);\n",
              "      filter: drop-shadow(0px 1px 2px rgba(0, 0, 0, 0.3));\n",
              "      fill: #FFFFFF;\n",
              "    }\n",
              "  </style>\n",
              "\n",
              "    <script>\n",
              "      const buttonEl =\n",
              "        document.querySelector('#df-11210be3-5ad9-4ab5-999e-665f80d421e9 button.colab-df-convert');\n",
              "      buttonEl.style.display =\n",
              "        google.colab.kernel.accessAllowed ? 'block' : 'none';\n",
              "\n",
              "      async function convertToInteractive(key) {\n",
              "        const element = document.querySelector('#df-11210be3-5ad9-4ab5-999e-665f80d421e9');\n",
              "        const dataTable =\n",
              "          await google.colab.kernel.invokeFunction('convertToInteractive',\n",
              "                                                    [key], {});\n",
              "        if (!dataTable) return;\n",
              "\n",
              "        const docLinkHtml = 'Like what you see? Visit the ' +\n",
              "          '<a target=\"_blank\" href=https://colab.research.google.com/notebooks/data_table.ipynb>data table notebook</a>'\n",
              "          + ' to learn more about interactive tables.';\n",
              "        element.innerHTML = '';\n",
              "        dataTable['output_type'] = 'display_data';\n",
              "        await google.colab.output.renderOutput(dataTable, element);\n",
              "        const docLink = document.createElement('div');\n",
              "        docLink.innerHTML = docLinkHtml;\n",
              "        element.appendChild(docLink);\n",
              "      }\n",
              "    </script>\n",
              "  </div>\n",
              "\n",
              "\n",
              "<div id=\"df-48eb2673-acfc-4bd1-a57d-f33e5ed3a72f\">\n",
              "  <button class=\"colab-df-quickchart\" onclick=\"quickchart('df-48eb2673-acfc-4bd1-a57d-f33e5ed3a72f')\"\n",
              "            title=\"Suggest charts\"\n",
              "            style=\"display:none;\">\n",
              "\n",
              "<svg xmlns=\"http://www.w3.org/2000/svg\" height=\"24px\"viewBox=\"0 0 24 24\"\n",
              "     width=\"24px\">\n",
              "    <g>\n",
              "        <path d=\"M19 3H5c-1.1 0-2 .9-2 2v14c0 1.1.9 2 2 2h14c1.1 0 2-.9 2-2V5c0-1.1-.9-2-2-2zM9 17H7v-7h2v7zm4 0h-2V7h2v10zm4 0h-2v-4h2v4z\"/>\n",
              "    </g>\n",
              "</svg>\n",
              "  </button>\n",
              "\n",
              "<style>\n",
              "  .colab-df-quickchart {\n",
              "      --bg-color: #E8F0FE;\n",
              "      --fill-color: #1967D2;\n",
              "      --hover-bg-color: #E2EBFA;\n",
              "      --hover-fill-color: #174EA6;\n",
              "      --disabled-fill-color: #AAA;\n",
              "      --disabled-bg-color: #DDD;\n",
              "  }\n",
              "\n",
              "  [theme=dark] .colab-df-quickchart {\n",
              "      --bg-color: #3B4455;\n",
              "      --fill-color: #D2E3FC;\n",
              "      --hover-bg-color: #434B5C;\n",
              "      --hover-fill-color: #FFFFFF;\n",
              "      --disabled-bg-color: #3B4455;\n",
              "      --disabled-fill-color: #666;\n",
              "  }\n",
              "\n",
              "  .colab-df-quickchart {\n",
              "    background-color: var(--bg-color);\n",
              "    border: none;\n",
              "    border-radius: 50%;\n",
              "    cursor: pointer;\n",
              "    display: none;\n",
              "    fill: var(--fill-color);\n",
              "    height: 32px;\n",
              "    padding: 0;\n",
              "    width: 32px;\n",
              "  }\n",
              "\n",
              "  .colab-df-quickchart:hover {\n",
              "    background-color: var(--hover-bg-color);\n",
              "    box-shadow: 0 1px 2px rgba(60, 64, 67, 0.3), 0 1px 3px 1px rgba(60, 64, 67, 0.15);\n",
              "    fill: var(--button-hover-fill-color);\n",
              "  }\n",
              "\n",
              "  .colab-df-quickchart-complete:disabled,\n",
              "  .colab-df-quickchart-complete:disabled:hover {\n",
              "    background-color: var(--disabled-bg-color);\n",
              "    fill: var(--disabled-fill-color);\n",
              "    box-shadow: none;\n",
              "  }\n",
              "\n",
              "  .colab-df-spinner {\n",
              "    border: 2px solid var(--fill-color);\n",
              "    border-color: transparent;\n",
              "    border-bottom-color: var(--fill-color);\n",
              "    animation:\n",
              "      spin 1s steps(1) infinite;\n",
              "  }\n",
              "\n",
              "  @keyframes spin {\n",
              "    0% {\n",
              "      border-color: transparent;\n",
              "      border-bottom-color: var(--fill-color);\n",
              "      border-left-color: var(--fill-color);\n",
              "    }\n",
              "    20% {\n",
              "      border-color: transparent;\n",
              "      border-left-color: var(--fill-color);\n",
              "      border-top-color: var(--fill-color);\n",
              "    }\n",
              "    30% {\n",
              "      border-color: transparent;\n",
              "      border-left-color: var(--fill-color);\n",
              "      border-top-color: var(--fill-color);\n",
              "      border-right-color: var(--fill-color);\n",
              "    }\n",
              "    40% {\n",
              "      border-color: transparent;\n",
              "      border-right-color: var(--fill-color);\n",
              "      border-top-color: var(--fill-color);\n",
              "    }\n",
              "    60% {\n",
              "      border-color: transparent;\n",
              "      border-right-color: var(--fill-color);\n",
              "    }\n",
              "    80% {\n",
              "      border-color: transparent;\n",
              "      border-right-color: var(--fill-color);\n",
              "      border-bottom-color: var(--fill-color);\n",
              "    }\n",
              "    90% {\n",
              "      border-color: transparent;\n",
              "      border-bottom-color: var(--fill-color);\n",
              "    }\n",
              "  }\n",
              "</style>\n",
              "\n",
              "  <script>\n",
              "    async function quickchart(key) {\n",
              "      const quickchartButtonEl =\n",
              "        document.querySelector('#' + key + ' button');\n",
              "      quickchartButtonEl.disabled = true;  // To prevent multiple clicks.\n",
              "      quickchartButtonEl.classList.add('colab-df-spinner');\n",
              "      try {\n",
              "        const charts = await google.colab.kernel.invokeFunction(\n",
              "            'suggestCharts', [key], {});\n",
              "      } catch (error) {\n",
              "        console.error('Error during call to suggestCharts:', error);\n",
              "      }\n",
              "      quickchartButtonEl.classList.remove('colab-df-spinner');\n",
              "      quickchartButtonEl.classList.add('colab-df-quickchart-complete');\n",
              "    }\n",
              "    (() => {\n",
              "      let quickchartButtonEl =\n",
              "        document.querySelector('#df-48eb2673-acfc-4bd1-a57d-f33e5ed3a72f button');\n",
              "      quickchartButtonEl.style.display =\n",
              "        google.colab.kernel.accessAllowed ? 'block' : 'none';\n",
              "    })();\n",
              "  </script>\n",
              "</div>\n",
              "\n",
              "    </div>\n",
              "  </div>\n"
            ],
            "application/vnd.google.colaboratory.intrinsic+json": {
              "type": "dataframe",
              "variable_name": "df",
              "summary": "{\n  \"name\": \"df\",\n  \"rows\": 90,\n  \"fields\": [\n    {\n      \"column\": \"question\",\n      \"properties\": {\n        \"dtype\": \"string\",\n        \"num_unique_values\": 90,\n        \"samples\": [\n          \"What is the currency of China?\",\n          \"What is the capital of Australia?\",\n          \"Who discovered electricity?\"\n        ],\n        \"semantic_type\": \"\",\n        \"description\": \"\"\n      }\n    },\n    {\n      \"column\": \"answer\",\n      \"properties\": {\n        \"dtype\": \"string\",\n        \"num_unique_values\": 85,\n        \"samples\": [\n          \"ChristopherColumbus\",\n          \"Paris\",\n          \"Christmas\"\n        ],\n        \"semantic_type\": \"\",\n        \"description\": \"\"\n      }\n    }\n  ]\n}"
            }
          },
          "metadata": {},
          "execution_count": 1
        }
      ],
      "source": [
        "import pandas as pd\n",
        "df = pd.read_csv('/content/100_Unique_QA_Dataset.csv')\n",
        "df.head()"
      ]
    },
    {
      "cell_type": "code",
      "source": [
        "# tokenize\n",
        "def tokenize(text):\n",
        "  text = text.lower()\n",
        "  text = text.replace('?', '')\n",
        "  text = text.replace('\"', '')\n",
        "  text = text.replace(\"'\", \"\")\n",
        "  return text.split()"
      ],
      "metadata": {
        "id": "goFip8d4dJUI"
      },
      "id": "goFip8d4dJUI",
      "execution_count": 16,
      "outputs": []
    },
    {
      "cell_type": "code",
      "source": [
        "tokenize(\"Who wrote 'To Kill a Mockingbird'?\")"
      ],
      "metadata": {
        "id": "8YjVmn2Gdi3h",
        "outputId": "35aa8347-293b-45f0-94db-fe2299b5bf26",
        "colab": {
          "base_uri": "https://localhost:8080/"
        }
      },
      "id": "8YjVmn2Gdi3h",
      "execution_count": 17,
      "outputs": [
        {
          "output_type": "execute_result",
          "data": {
            "text/plain": [
              "['who', 'wrote', 'to', 'kill', 'a', 'mockingbird']"
            ]
          },
          "metadata": {},
          "execution_count": 17
        }
      ]
    },
    {
      "cell_type": "code",
      "source": [
        "# vocab\n",
        "vocab = {'<UNK>':0}"
      ],
      "metadata": {
        "id": "DW2OPNo_dnoK"
      },
      "id": "DW2OPNo_dnoK",
      "execution_count": 4,
      "outputs": []
    },
    {
      "cell_type": "code",
      "source": [
        "def build_vocab(row):\n",
        "  question = tokenize(row['question'])\n",
        "  answer = tokenize(row['answer'])\n",
        "\n",
        "  merged = question + answer\n",
        "\n",
        "  for token in merged:\n",
        "    if token not in vocab:\n",
        "      vocab[token] = len(vocab)"
      ],
      "metadata": {
        "id": "vzOiMl2Sd19m"
      },
      "id": "vzOiMl2Sd19m",
      "execution_count": 10,
      "outputs": []
    },
    {
      "cell_type": "code",
      "source": [
        "df.apply(build_vocab, axis=1)"
      ],
      "metadata": {
        "id": "jNQ4WyJUenUC",
        "outputId": "c9b25683-1af5-4f36-f679-051f9ed7ade2",
        "colab": {
          "base_uri": "https://localhost:8080/",
          "height": 458
        }
      },
      "id": "jNQ4WyJUenUC",
      "execution_count": 11,
      "outputs": [
        {
          "output_type": "execute_result",
          "data": {
            "text/plain": [
              "0     None\n",
              "1     None\n",
              "2     None\n",
              "3     None\n",
              "4     None\n",
              "      ... \n",
              "85    None\n",
              "86    None\n",
              "87    None\n",
              "88    None\n",
              "89    None\n",
              "Length: 90, dtype: object"
            ],
            "text/html": [
              "<div>\n",
              "<style scoped>\n",
              "    .dataframe tbody tr th:only-of-type {\n",
              "        vertical-align: middle;\n",
              "    }\n",
              "\n",
              "    .dataframe tbody tr th {\n",
              "        vertical-align: top;\n",
              "    }\n",
              "\n",
              "    .dataframe thead th {\n",
              "        text-align: right;\n",
              "    }\n",
              "</style>\n",
              "<table border=\"1\" class=\"dataframe\">\n",
              "  <thead>\n",
              "    <tr style=\"text-align: right;\">\n",
              "      <th></th>\n",
              "      <th>0</th>\n",
              "    </tr>\n",
              "  </thead>\n",
              "  <tbody>\n",
              "    <tr>\n",
              "      <th>0</th>\n",
              "      <td>None</td>\n",
              "    </tr>\n",
              "    <tr>\n",
              "      <th>1</th>\n",
              "      <td>None</td>\n",
              "    </tr>\n",
              "    <tr>\n",
              "      <th>2</th>\n",
              "      <td>None</td>\n",
              "    </tr>\n",
              "    <tr>\n",
              "      <th>3</th>\n",
              "      <td>None</td>\n",
              "    </tr>\n",
              "    <tr>\n",
              "      <th>4</th>\n",
              "      <td>None</td>\n",
              "    </tr>\n",
              "    <tr>\n",
              "      <th>...</th>\n",
              "      <td>...</td>\n",
              "    </tr>\n",
              "    <tr>\n",
              "      <th>85</th>\n",
              "      <td>None</td>\n",
              "    </tr>\n",
              "    <tr>\n",
              "      <th>86</th>\n",
              "      <td>None</td>\n",
              "    </tr>\n",
              "    <tr>\n",
              "      <th>87</th>\n",
              "      <td>None</td>\n",
              "    </tr>\n",
              "    <tr>\n",
              "      <th>88</th>\n",
              "      <td>None</td>\n",
              "    </tr>\n",
              "    <tr>\n",
              "      <th>89</th>\n",
              "      <td>None</td>\n",
              "    </tr>\n",
              "  </tbody>\n",
              "</table>\n",
              "<p>90 rows × 1 columns</p>\n",
              "</div><br><label><b>dtype:</b> object</label>"
            ]
          },
          "metadata": {},
          "execution_count": 11
        }
      ]
    },
    {
      "cell_type": "code",
      "source": [
        "len(vocab)"
      ],
      "metadata": {
        "id": "2R-vLZ26fJmY",
        "outputId": "afb8c03d-db83-42bb-ff23-a02fd34baae4",
        "colab": {
          "base_uri": "https://localhost:8080/"
        }
      },
      "id": "2R-vLZ26fJmY",
      "execution_count": 12,
      "outputs": [
        {
          "output_type": "execute_result",
          "data": {
            "text/plain": [
              "324"
            ]
          },
          "metadata": {},
          "execution_count": 12
        }
      ]
    },
    {
      "cell_type": "code",
      "source": [
        "# convert words to numerical indices\n",
        "def text_to_indices(text, vocab):\n",
        "\n",
        "  indexed_text = []\n",
        "\n",
        "  for token in tokenize(text):\n",
        "    if token in vocab:\n",
        "      indexed_text.append(vocab[token])\n",
        "    else:\n",
        "      indexed_text.append(vocab['<UNK>'])\n",
        "\n",
        "  return torch.tensor(indexed_text)"
      ],
      "metadata": {
        "id": "uYLRJlgFfL4x"
      },
      "id": "uYLRJlgFfL4x",
      "execution_count": 20,
      "outputs": []
    },
    {
      "cell_type": "code",
      "source": [
        "text_to_indices('Who wrote \"To Kill a Mockingbird\"?', vocab)"
      ],
      "metadata": {
        "id": "cCfL5ZdwgF3h",
        "outputId": "e4f03b1d-cc73-4eb9-a686-31c1f786f4dc",
        "colab": {
          "base_uri": "https://localhost:8080/"
        }
      },
      "id": "cCfL5ZdwgF3h",
      "execution_count": 18,
      "outputs": [
        {
          "output_type": "execute_result",
          "data": {
            "text/plain": [
              "[10, 11, 12, 13, 14, 15]"
            ]
          },
          "metadata": {},
          "execution_count": 18
        }
      ]
    },
    {
      "cell_type": "code",
      "source": [
        "# Dataset & DataLoader\n",
        "import torch\n",
        "from torch.utils.data import Dataset, DataLoader"
      ],
      "metadata": {
        "id": "GyXc3EcjgrIg"
      },
      "id": "GyXc3EcjgrIg",
      "execution_count": 19,
      "outputs": []
    },
    {
      "cell_type": "code",
      "source": [
        "class QADataset(Dataset):\n",
        "  def __init__(self, df, vocab):\n",
        "    self.df = df\n",
        "    self.vocab = vocab\n",
        "\n",
        "  def __len__(self):\n",
        "    return self.df.shape[0]\n",
        "\n",
        "  def __getitem__(self, index):\n",
        "\n",
        "    numerical_question = text_to_indices(self.df.iloc[index]['question'], self.vocab)\n",
        "    numerical_answer = text_to_indices(self.df.iloc[index]['answer'], self.vocab)\n",
        "\n",
        "    return numerical_question, numerical_answer"
      ],
      "metadata": {
        "id": "zFWZnVR_gzbV"
      },
      "id": "zFWZnVR_gzbV",
      "execution_count": 21,
      "outputs": []
    },
    {
      "cell_type": "code",
      "source": [
        "dataset = QADataset(df, vocab)"
      ],
      "metadata": {
        "id": "OfavpnN1iG-E"
      },
      "id": "OfavpnN1iG-E",
      "execution_count": 22,
      "outputs": []
    },
    {
      "cell_type": "code",
      "source": [
        "dataset[10]"
      ],
      "metadata": {
        "id": "JID7WERqiOo0",
        "outputId": "e46b0352-b806-4c43-9763-405ac257bd62",
        "colab": {
          "base_uri": "https://localhost:8080/"
        }
      },
      "id": "JID7WERqiOo0",
      "execution_count": 23,
      "outputs": [
        {
          "output_type": "execute_result",
          "data": {
            "text/plain": [
              "(tensor([ 1,  2,  3,  4,  5, 53]), tensor([54]))"
            ]
          },
          "metadata": {},
          "execution_count": 23
        }
      ]
    },
    {
      "cell_type": "code",
      "source": [
        "dataloader = DataLoader(dataset, batch_size=1, shuffle=True)"
      ],
      "metadata": {
        "id": "K406NLq6iU4l"
      },
      "id": "K406NLq6iU4l",
      "execution_count": 24,
      "outputs": []
    },
    {
      "cell_type": "code",
      "source": [
        "for question, answer in dataloader:\n",
        "  print(question, answer)"
      ],
      "metadata": {
        "id": "NAu3tYXQiccm",
        "outputId": "afb5fdef-9123-4a42-c1b2-97ea6d25bdec",
        "colab": {
          "base_uri": "https://localhost:8080/"
        }
      },
      "id": "NAu3tYXQiccm",
      "execution_count": 25,
      "outputs": [
        {
          "output_type": "stream",
          "name": "stdout",
          "text": [
            "tensor([[  1,   2,   3, 163, 164, 165,  83,  84]]) tensor([[166]])\n",
            "tensor([[ 42, 117, 118,   3, 119,  94, 120]]) tensor([[121]])\n",
            "tensor([[ 10,  11, 157, 158, 159]]) tensor([[160]])\n",
            "tensor([[ 1,  2,  3, 17, 18, 19, 20, 21, 22]]) tensor([[23]])\n",
            "tensor([[ 42, 312,   2, 313,  62,  63,   3, 314, 315]]) tensor([[316]])\n",
            "tensor([[1, 2, 3, 4, 5, 8]]) tensor([[9]])\n",
            "tensor([[ 42,   2,   3, 210, 137, 168, 211, 169]]) tensor([[113]])\n",
            "tensor([[ 78,  79, 129,  81,  19,   3,  21,  22]]) tensor([[36]])\n",
            "tensor([[ 42, 263, 264,  14, 265, 266, 158, 267]]) tensor([[268]])\n",
            "tensor([[ 10,   2,  62,  63,   3, 283,   5, 284]]) tensor([[285]])\n",
            "tensor([[ 42,  18,   2,   3, 281,  12,   3, 282]]) tensor([[205]])\n",
            "tensor([[  1,   2,   3,  37, 133,   5,  26]]) tensor([[134]])\n",
            "tensor([[ 1,  2,  3, 37, 38, 39, 40]]) tensor([[41]])\n",
            "tensor([[ 10,  75, 111]]) tensor([[112]])\n",
            "tensor([[ 42, 318,   2,  62,  63,   3, 319,   5, 320]]) tensor([[321]])\n",
            "tensor([[ 42, 125,   2,  62,  63,   3, 126, 127]]) tensor([[128]])\n",
            "tensor([[  1,   2,   3, 122, 123,  19,   3,  45]]) tensor([[124]])\n",
            "tensor([[ 10,  11, 189, 158, 190]]) tensor([[191]])\n",
            "tensor([[10, 29,  3, 30, 31]]) tensor([[32]])\n",
            "tensor([[ 42, 137, 118,   3, 247,   5, 248]]) tensor([[249]])\n",
            "tensor([[10,  2,  3, 66,  5, 67]]) tensor([[68]])\n",
            "tensor([[ 42,  18, 118,   3, 186, 187]]) tensor([[188]])\n",
            "tensor([[ 42, 255,   2, 256,  83, 257, 258]]) tensor([[259]])\n",
            "tensor([[ 42, 299, 300, 118,  14, 301, 302, 158, 303, 304, 305, 306]]) tensor([[307]])\n",
            "tensor([[ 42, 137,   2, 138,  39, 139]]) tensor([[53]])\n",
            "tensor([[ 10, 140,   3, 141, 142,  12, 143,  83,   3, 144]]) tensor([[145]])\n",
            "tensor([[ 10,  75, 208]]) tensor([[209]])\n",
            "tensor([[ 78,  79, 195,  81,  19,   3, 196, 197, 198]]) tensor([[199]])\n",
            "tensor([[ 42, 200,   2,  14, 201, 202, 203, 204]]) tensor([[205]])\n",
            "tensor([[ 42, 250, 251, 118, 252, 253]]) tensor([[254]])\n",
            "tensor([[ 78,  79, 150, 151,  14, 152, 153]]) tensor([[154]])\n",
            "tensor([[ 1,  2,  3, 69,  5,  3, 70, 71]]) tensor([[72]])\n",
            "tensor([[42, 43, 44, 45, 46, 47, 48]]) tensor([[49]])\n",
            "tensor([[ 42, 290, 291, 118, 292, 158, 293, 294]]) tensor([[295]])\n",
            "tensor([[ 42, 107,   2, 108,  19, 109]]) tensor([[110]])\n",
            "tensor([[  1,   2,   3,   4,   5, 109]]) tensor([[317]])\n",
            "tensor([[  1,   2,   3, 212,   5,  14, 213, 214]]) tensor([[215]])\n",
            "tensor([[ 78,  79, 261, 151,  14, 262, 153]]) tensor([[36]])\n",
            "tensor([[  1,   2,   3,   4,   5, 206]]) tensor([[207]])\n",
            "tensor([[10, 75, 76]]) tensor([[77]])\n",
            "tensor([[78, 79, 80, 81, 82, 83, 84]]) tensor([[85]])\n",
            "tensor([[ 1,  2,  3,  4,  5, 53]]) tensor([[54]])\n",
            "tensor([[ 42,   2,   3, 274, 211, 275]]) tensor([[276]])\n",
            "tensor([[ 1,  2,  3, 50, 51, 19,  3, 45]]) tensor([[52]])\n",
            "tensor([[1, 2, 3, 4, 5, 6]]) tensor([[7]])\n",
            "tensor([[ 1,  2,  3, 92, 93, 94]]) tensor([[95]])\n",
            "tensor([[  1,   2,   3,   4,   5, 236, 237]]) tensor([[238]])\n",
            "tensor([[  1,   2,   3, 146, 147,  19, 148]]) tensor([[149]])\n",
            "tensor([[ 10, 140,   3, 141, 270,  93, 271,   5,   3, 272]]) tensor([[273]])\n",
            "tensor([[ 1,  2,  3, 33, 34,  5, 35]]) tensor([[36]])\n",
            "tensor([[ 10, 308,   3, 309, 310]]) tensor([[311]])\n",
            "tensor([[  1,   2,   3,   4,   5, 279]]) tensor([[280]])\n",
            "tensor([[ 42, 137,   2, 138,  39, 175, 269]]) tensor([[99]])\n",
            "tensor([[ 42, 174,   2,  62,  39, 175, 176,  12, 177, 178]]) tensor([[179]])\n",
            "tensor([[  1,   2,   3, 180, 181, 182, 183]]) tensor([[184]])\n",
            "tensor([[ 42, 137,   2, 226,  12,   3, 227, 228]]) tensor([[155]])\n",
            "tensor([[10, 55,  3, 56,  5, 57]]) tensor([[58]])\n",
            "tensor([[ 42, 101,   2,   3,  17]]) tensor([[102]])\n",
            "tensor([[  1,  87, 229, 230, 231, 232]]) tensor([[233]])\n",
            "tensor([[  1,   2,   3, 103,   5, 104,  19, 105]]) tensor([[106]])\n",
            "tensor([[ 1,  2,  3, 24, 25,  5, 26, 19, 27]]) tensor([[28]])\n",
            "tensor([[42, 86, 87, 88, 89, 39, 90]]) tensor([[91]])\n",
            "tensor([[  1,   2,   3,   4,   5, 135]]) tensor([[136]])\n",
            "tensor([[42, 18,  2, 62, 63,  3, 64, 18]]) tensor([[65]])\n",
            "tensor([[  1,   2,   3,   4,   5, 113]]) tensor([[114]])\n",
            "tensor([[ 1,  2,  3,  4,  5, 99]]) tensor([[100]])\n",
            "tensor([[ 10,  96,   3, 104, 239]]) tensor([[240]])\n",
            "tensor([[ 42, 167,   2,   3,  17, 168, 169]]) tensor([[170]])\n",
            "tensor([[  1,   2,   3, 221,   5, 222, 223, 224]]) tensor([[225]])\n",
            "tensor([[  1,   2,   3, 234,   5, 235]]) tensor([[131]])\n",
            "tensor([[  1,   2,   3,  92, 137,  19,   3,  45]]) tensor([[185]])\n",
            "tensor([[ 42, 216, 118, 217, 218,  19,  14, 219,  43]]) tensor([[220]])\n",
            "tensor([[  1,   2,   3,  69,   5, 155]]) tensor([[156]])\n",
            "tensor([[  1,   2,   3,   4,   5, 286]]) tensor([[287]])\n",
            "tensor([[ 1,  2,  3, 69,  5, 53]]) tensor([[260]])\n",
            "tensor([[  1,   2,   3, 141, 117,  83,   3, 277, 278]]) tensor([[121]])\n",
            "tensor([[ 10, 140,   3, 141, 171,   5,   3,  70, 172]]) tensor([[173]])\n",
            "tensor([[ 42,  86,  87, 241, 242,  19,  39, 243]]) tensor([[244]])\n",
            "tensor([[ 1,  2,  3, 59, 25,  5, 26, 19, 60]]) tensor([[61]])\n",
            "tensor([[ 78,  79, 288,  81,  19,  14, 289]]) tensor([[85]])\n",
            "tensor([[  1,   2,   3,  37,  38,  39, 161]]) tensor([[162]])\n",
            "tensor([[  1,   2,   3, 146,  86,  19, 192, 193]]) tensor([[194]])\n",
            "tensor([[ 10,  29, 130, 131]]) tensor([[132]])\n",
            "tensor([[10, 11, 12, 13, 14, 15]]) tensor([[16]])\n",
            "tensor([[ 42, 137,   2,  62,  39,   3, 322, 323]]) tensor([[6]])\n",
            "tensor([[ 1,  2,  3,  4,  5, 73]]) tensor([[74]])\n",
            "tensor([[  1,   2,   3,  17, 115,  83,  84]]) tensor([[116]])\n",
            "tensor([[ 10,  75,   3, 296,  19, 297]]) tensor([[298]])\n",
            "tensor([[10, 96,  3, 97]]) tensor([[98]])\n",
            "tensor([[  1,   2,   3,  33,  34,   5, 245]]) tensor([[246]])\n"
          ]
        }
      ]
    },
    {
      "cell_type": "code",
      "source": [
        "import torch.nn as nn\n",
        "\n",
        "class SimpleRNN(nn.Module):\n",
        "  def __init__(self, vocab_size):\n",
        "    super().__init__()\n",
        "    self.embedding = nn.Embedding(vocab_size, embedding_dim=50)\n",
        "    self.rnn = nn.RNN(50, 64, batch_first=True)\n",
        "    self.fc = nn.Linear(64, vocab_size)\n",
        "\n",
        "  def forward(self, x):\n",
        "    x = self.embedding(x)\n",
        "    hidden, final = self.rnn(x)\n",
        "    return self.fc(final.squeeze(0))"
      ],
      "metadata": {
        "id": "AJJfDK-4iwgr"
      },
      "id": "AJJfDK-4iwgr",
      "execution_count": 41,
      "outputs": []
    },
    {
      "cell_type": "code",
      "source": [
        "dataset[15][0]"
      ],
      "metadata": {
        "id": "gfkAcCBCn5Rh",
        "outputId": "f7c55809-3551-4ad6-a8ef-598660ce1205",
        "colab": {
          "base_uri": "https://localhost:8080/"
        }
      },
      "id": "gfkAcCBCn5Rh",
      "execution_count": 26,
      "outputs": [
        {
          "output_type": "execute_result",
          "data": {
            "text/plain": [
              "tensor([ 1,  2,  3, 69,  5,  3, 70, 71])"
            ]
          },
          "metadata": {},
          "execution_count": 26
        }
      ]
    },
    {
      "cell_type": "code",
      "source": [
        "x = nn.Embedding(324, embedding_dim=50)"
      ],
      "metadata": {
        "id": "PWc50qiJn5K7"
      },
      "id": "PWc50qiJn5K7",
      "execution_count": 29,
      "outputs": []
    },
    {
      "cell_type": "code",
      "source": [
        "a = x(dataset[15][0])"
      ],
      "metadata": {
        "id": "9eQ76s8eoFLG"
      },
      "id": "9eQ76s8eoFLG",
      "execution_count": 33,
      "outputs": []
    },
    {
      "cell_type": "code",
      "source": [
        "y = nn.RNN(50, 64)"
      ],
      "metadata": {
        "id": "hGIKxFa6oss_"
      },
      "id": "hGIKxFa6oss_",
      "execution_count": 34,
      "outputs": []
    },
    {
      "cell_type": "code",
      "source": [
        "y(a) # it's give 2 output all outputs like o1, o2 ... and default second result y(a)[last] that's why we can't use Sequence in RNN"
      ],
      "metadata": {
        "id": "mz-qXmFJowBF",
        "outputId": "d6dc9a38-aec4-4e3f-fbc7-d46ce6f50254",
        "colab": {
          "base_uri": "https://localhost:8080/"
        }
      },
      "id": "mz-qXmFJowBF",
      "execution_count": 37,
      "outputs": [
        {
          "output_type": "execute_result",
          "data": {
            "text/plain": [
              "(tensor([[ 0.2894, -0.5706, -0.7059,  0.7176,  0.6470,  0.8331, -0.5472, -0.4395,\n",
              "          -0.0063,  0.1847,  0.3144, -0.2123,  0.0451, -0.6317,  0.2931,  0.7366,\n",
              "           0.2810,  0.6035,  0.1643, -0.3817, -0.0220, -0.7655,  0.2141,  0.3367,\n",
              "          -0.5148, -0.1514, -0.4367,  0.0986, -0.0858, -0.0913,  0.5043,  0.7579,\n",
              "          -0.2508,  0.8013, -0.0048,  0.4639,  0.5712,  0.5513, -0.8420, -0.5529,\n",
              "           0.7679,  0.2198,  0.6275, -0.5613,  0.3327, -0.3699,  0.3364, -0.2330,\n",
              "           0.7900,  0.1709, -0.3731, -0.0271,  0.0997,  0.8538,  0.1265,  0.9256,\n",
              "          -0.0664, -0.3627,  0.5456, -0.1017,  0.5014,  0.2020,  0.4647,  0.6648],\n",
              "         [-0.6779,  0.7503, -0.5404, -0.3745, -0.4546,  0.2106,  0.4981, -0.0643,\n",
              "          -0.7985, -0.6211, -0.3829, -0.6785,  0.4192, -0.8547,  0.4916, -0.1907,\n",
              "           0.4268,  0.5849,  0.7266,  0.3416,  0.8629,  0.1159, -0.8068, -0.6726,\n",
              "           0.3768,  0.0517, -0.5337, -0.1140, -0.6101,  0.2802,  0.8112, -0.5381,\n",
              "           0.0015, -0.3196,  0.7301, -0.4618, -0.6926,  0.2801, -0.0843,  0.9231,\n",
              "          -0.8801,  0.4862,  0.2100, -0.2417,  0.8265,  0.0506, -0.1116, -0.3327,\n",
              "           0.7610, -0.6930, -0.8270,  0.8879,  0.2885,  0.7804,  0.3306, -0.2624,\n",
              "           0.2761, -0.0821, -0.5178, -0.1663, -0.1774, -0.6379, -0.1228, -0.2791],\n",
              "         [ 0.3473,  0.0512, -0.4683,  0.3898, -0.2495,  0.3207, -0.3587,  0.0710,\n",
              "           0.3766,  0.3762,  0.4439, -0.6245,  0.6649,  0.6854,  0.0158,  0.2830,\n",
              "          -0.4879, -0.2632,  0.7746, -0.5711, -0.7574, -0.0181, -0.3726,  0.0901,\n",
              "          -0.2082,  0.2269,  0.5459,  0.3048, -0.7429, -0.8136, -0.9020, -0.5844,\n",
              "           0.0887,  0.6565, -0.6658, -0.3805, -0.6504, -0.2526, -0.3469, -0.3883,\n",
              "           0.1335, -0.1270, -0.2558, -0.2829,  0.4104, -0.5342, -0.5760, -0.3908,\n",
              "          -0.0042,  0.6976,  0.0359, -0.2712,  0.8493, -0.3121, -0.3897, -0.0058,\n",
              "          -0.4383, -0.4438,  0.0503,  0.2385,  0.4523,  0.6884,  0.2519,  0.4288],\n",
              "         [-0.5474, -0.2316, -0.2499, -0.7278,  0.3158, -0.6250, -0.0869,  0.3634,\n",
              "          -0.4087, -0.1319,  0.2129, -0.0423, -0.1123, -0.5562, -0.5578, -0.3869,\n",
              "           0.5416, -0.2260, -0.1732,  0.7394,  0.8898,  0.2898,  0.2890,  0.6636,\n",
              "           0.2120,  0.4665,  0.3933, -0.4547, -0.4989,  0.6081, -0.3253, -0.0275,\n",
              "           0.2423, -0.3851,  0.5878, -0.1120, -0.7038, -0.5290, -0.5077,  0.2035,\n",
              "          -0.6353,  0.0046, -0.8611,  0.8425,  0.3822,  0.4985,  0.1924,  0.0852,\n",
              "           0.0859, -0.4328, -0.5759, -0.0834, -0.1299,  0.6711,  0.0206,  0.5783,\n",
              "           0.2765, -0.4023, -0.7807, -0.3681, -0.7496, -0.0498, -0.5541,  0.1122],\n",
              "         [-0.3865,  0.2761, -0.0125,  0.2530,  0.4081, -0.8374, -0.1426, -0.4093,\n",
              "           0.1649,  0.6337,  0.6510, -0.0211, -0.3754, -0.2281, -0.3176,  0.3438,\n",
              "           0.7639, -0.3034, -0.1027, -0.6540, -0.0575,  0.0099,  0.2929,  0.6354,\n",
              "          -0.4163,  0.2488,  0.1469, -0.4159, -0.0599,  0.6055,  0.2008, -0.8543,\n",
              "          -0.2016, -0.4844,  0.8265,  0.5873, -0.2720,  0.3092, -0.9232, -0.2740,\n",
              "           0.3874, -0.0260, -0.4014,  0.8133, -0.1820, -0.1628, -0.7003, -0.1380,\n",
              "           0.4235, -0.2506, -0.5344, -0.7779,  0.5603,  0.6913, -0.3985,  0.2141,\n",
              "          -0.2245,  0.4026,  0.0268,  0.1672,  0.5084, -0.7172, -0.0280,  0.7661],\n",
              "         [ 0.4795, -0.0188, -0.2668, -0.4491,  0.0456,  0.1480, -0.3845,  0.0181,\n",
              "           0.5480, -0.2920,  0.7300, -0.2630,  0.0344,  0.2599, -0.2773,  0.4854,\n",
              "           0.3855, -0.1467,  0.6354, -0.6570, -0.5359,  0.1241,  0.1916, -0.1540,\n",
              "          -0.3485, -0.3119,  0.5413,  0.6799, -0.5729, -0.6684, -0.7863, -0.8038,\n",
              "           0.3519,  0.5597, -0.7626, -0.1512, -0.6686, -0.0095, -0.5765, -0.0496,\n",
              "           0.2132, -0.3619, -0.2563, -0.3182, -0.0724, -0.8032, -0.1938,  0.0032,\n",
              "           0.4597, -0.1848, -0.0267, -0.1648,  0.5654,  0.2018, -0.1336,  0.3076,\n",
              "           0.4713,  0.0113,  0.3896,  0.5711,  0.4331,  0.6639, -0.2369,  0.3701],\n",
              "         [-0.4739, -0.5878, -0.1701,  0.4019,  0.5079, -0.4886, -0.1273,  0.2998,\n",
              "          -0.1555, -0.8472,  0.5313, -0.0762,  0.4987,  0.0939,  0.1947,  0.2380,\n",
              "          -0.2373,  0.6609,  0.5782,  0.0318,  0.2826,  0.8691, -0.4997,  0.3342,\n",
              "          -0.0274, -0.5430, -0.4785, -0.2710, -0.2223,  0.2999, -0.7713,  0.0013,\n",
              "           0.4366, -0.6638, -0.5183,  0.0152, -0.7017,  0.3378, -0.4483,  0.3237,\n",
              "          -0.1053, -0.0543, -0.5015,  0.4676,  0.7497, -0.2058, -0.2235,  0.1717,\n",
              "           0.3646,  0.3358, -0.6035, -0.5655, -0.1406,  0.5896,  0.4120,  0.9237,\n",
              "          -0.2976,  0.0674, -0.6257, -0.4026,  0.2092,  0.6816,  0.3235,  0.8079],\n",
              "         [ 0.4639,  0.3084, -0.2763,  0.2604,  0.2242, -0.4267,  0.3973, -0.2980,\n",
              "          -0.4588,  0.3219,  0.7681, -0.0427,  0.6176,  0.5629,  0.2179, -0.1869,\n",
              "           0.2997, -0.4154, -0.3684, -0.5582,  0.4946, -0.2227, -0.0871, -0.5873,\n",
              "          -0.4963, -0.4506,  0.3797, -0.3494,  0.8586,  0.0445,  0.3969,  0.0321,\n",
              "          -0.4931,  0.5316,  0.6500,  0.1643, -0.1984,  0.4595,  0.5717,  0.2205,\n",
              "          -0.8527,  0.2537, -0.6362,  0.5373,  0.8189,  0.0736, -0.6653, -0.6849,\n",
              "           0.3440,  0.0359, -0.1033,  0.2896,  0.2075, -0.0699, -0.0102,  0.3948,\n",
              "          -0.0822,  0.2883, -0.5575,  0.0526, -0.2352, -0.8322,  0.2988, -0.8961]],\n",
              "        grad_fn=<SqueezeBackward1>),\n",
              " tensor([[ 0.4639,  0.3084, -0.2763,  0.2604,  0.2242, -0.4267,  0.3973, -0.2980,\n",
              "          -0.4588,  0.3219,  0.7681, -0.0427,  0.6176,  0.5629,  0.2179, -0.1869,\n",
              "           0.2997, -0.4154, -0.3684, -0.5582,  0.4946, -0.2227, -0.0871, -0.5873,\n",
              "          -0.4963, -0.4506,  0.3797, -0.3494,  0.8586,  0.0445,  0.3969,  0.0321,\n",
              "          -0.4931,  0.5316,  0.6500,  0.1643, -0.1984,  0.4595,  0.5717,  0.2205,\n",
              "          -0.8527,  0.2537, -0.6362,  0.5373,  0.8189,  0.0736, -0.6653, -0.6849,\n",
              "           0.3440,  0.0359, -0.1033,  0.2896,  0.2075, -0.0699, -0.0102,  0.3948,\n",
              "          -0.0822,  0.2883, -0.5575,  0.0526, -0.2352, -0.8322,  0.2988, -0.8961]],\n",
              "        grad_fn=<SqueezeBackward1>))"
            ]
          },
          "metadata": {},
          "execution_count": 37
        }
      ]
    },
    {
      "cell_type": "code",
      "source": [
        "lr =0.001\n",
        "epochs = 20"
      ],
      "metadata": {
        "id": "-eN01KS5qOcq"
      },
      "id": "-eN01KS5qOcq",
      "execution_count": 39,
      "outputs": []
    },
    {
      "cell_type": "code",
      "source": [
        "model = SimpleRNN(len(vocab))\n",
        "\n",
        "loss_fn = nn.CrossEntropyLoss()\n",
        "optimizer = torch.optim.Adam(model.parameters(), lr=lr)"
      ],
      "metadata": {
        "id": "mPn9xKPQqRkQ"
      },
      "id": "mPn9xKPQqRkQ",
      "execution_count": 42,
      "outputs": []
    },
    {
      "cell_type": "code",
      "source": [
        "# training loop\n",
        "for epoch in range(epochs):\n",
        "\n",
        "  total_loss = 0\n",
        "\n",
        "  for question, answer in dataloader:\n",
        "\n",
        "    optimizer.zero_grad()\n",
        "\n",
        "    y_hat = model(question)\n",
        "\n",
        "    loss = loss_fn(y_hat, answer[0])\n",
        "\n",
        "    loss.backward()\n",
        "\n",
        "    optimizer.step()\n",
        "\n",
        "    total_loss = total_loss + loss.item()\n",
        "\n",
        "  print(f'epoch: {epoch+1} loss: {total_loss:4f}')"
      ],
      "metadata": {
        "id": "oKlVm0_6qewt",
        "outputId": "9f0bc630-346e-4dfb-9e49-b271a93c4d04",
        "colab": {
          "base_uri": "https://localhost:8080/"
        }
      },
      "id": "oKlVm0_6qewt",
      "execution_count": 44,
      "outputs": [
        {
          "output_type": "stream",
          "name": "stdout",
          "text": [
            "epoch: 1 loss: 527.268655\n",
            "epoch: 2 loss: 462.380653\n",
            "epoch: 3 loss: 387.529388\n",
            "epoch: 4 loss: 321.539518\n",
            "epoch: 5 loss: 267.510517\n",
            "epoch: 6 loss: 218.931633\n",
            "epoch: 7 loss: 175.167384\n",
            "epoch: 8 loss: 136.673164\n",
            "epoch: 9 loss: 105.979186\n",
            "epoch: 10 loss: 81.735008\n",
            "epoch: 11 loss: 63.305677\n",
            "epoch: 12 loss: 49.511766\n",
            "epoch: 13 loss: 39.193814\n",
            "epoch: 14 loss: 31.625880\n",
            "epoch: 15 loss: 25.706715\n",
            "epoch: 16 loss: 21.307259\n",
            "epoch: 17 loss: 17.655009\n",
            "epoch: 18 loss: 14.933520\n",
            "epoch: 19 loss: 12.855155\n",
            "epoch: 20 loss: 11.059533\n"
          ]
        }
      ]
    },
    {
      "cell_type": "code",
      "source": [
        "def predict(model, question, threshold=0.5):\n",
        "\n",
        "  # convert question to numbers\n",
        "  numerical_question = text_to_indices(question, vocab)\n",
        "\n",
        "  # tensor\n",
        "  question_tensor = torch.tensor(numerical_question).unsqueeze(0)\n",
        "\n",
        "  # send to model\n",
        "  output = model(question_tensor)\n",
        "\n",
        "  # convert logits to probs\n",
        "  probs = torch.nn.functional.softmax(output, dim=1)\n",
        "\n",
        "  # find index of max prob\n",
        "  value, index = torch.max(probs, dim=1)\n",
        "\n",
        "  if value < threshold:\n",
        "    print(\"I don't know\")\n",
        "\n",
        "  print(list(vocab.keys())[index])"
      ],
      "metadata": {
        "id": "epXSyYQ5tEgb"
      },
      "id": "epXSyYQ5tEgb",
      "execution_count": 45,
      "outputs": []
    },
    {
      "cell_type": "code",
      "source": [
        "predict(model, \"What is the largest planet in our solar system?\")"
      ],
      "metadata": {
        "id": "eerNz_X3tG2N",
        "outputId": "9f47db68-fa22-42b5-cc2b-6fc07b8b2391",
        "colab": {
          "base_uri": "https://localhost:8080/"
        }
      },
      "id": "eerNz_X3tG2N",
      "execution_count": 47,
      "outputs": [
        {
          "output_type": "stream",
          "name": "stdout",
          "text": [
            "jupiter\n"
          ]
        },
        {
          "output_type": "stream",
          "name": "stderr",
          "text": [
            "<ipython-input-45-dd56cb346c6b>:7: UserWarning: To copy construct from a tensor, it is recommended to use sourceTensor.clone().detach() or sourceTensor.clone().detach().requires_grad_(True), rather than torch.tensor(sourceTensor).\n",
            "  question_tensor = torch.tensor(numerical_question).unsqueeze(0)\n"
          ]
        }
      ]
    },
    {
      "cell_type": "code",
      "source": [
        "list(vocab.keys())[7]"
      ],
      "metadata": {
        "id": "kVr26HjVtOp5",
        "outputId": "cbf7d7e5-8065-45cb-b929-4b07d1f6d8b9",
        "colab": {
          "base_uri": "https://localhost:8080/",
          "height": 35
        }
      },
      "id": "kVr26HjVtOp5",
      "execution_count": 48,
      "outputs": [
        {
          "output_type": "execute_result",
          "data": {
            "text/plain": [
              "'paris'"
            ],
            "application/vnd.google.colaboratory.intrinsic+json": {
              "type": "string"
            }
          },
          "metadata": {},
          "execution_count": 48
        }
      ]
    }
  ],
  "metadata": {
    "kernelspec": {
      "display_name": "",
      "name": ""
    },
    "language_info": {
      "name": ""
    },
    "colab": {
      "provenance": [],
      "include_colab_link": true
    }
  },
  "nbformat": 4,
  "nbformat_minor": 5
}